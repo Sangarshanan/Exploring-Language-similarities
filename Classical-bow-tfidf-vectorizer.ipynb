{
 "cells": [
  {
   "cell_type": "code",
   "execution_count": 102,
   "metadata": {},
   "outputs": [],
   "source": [
    "import numpy as np\n",
    "import pandas as pd\n",
    "import re\n",
    "import xml.etree.ElementTree as ET\n",
    "from sklearn.utils import shuffle\n",
    "import gensim \n",
    "from sklearn.feature_extraction.text import TfidfVectorizer\n",
    "from sklearn.feature_extraction.text import CountVectorizer\n",
    "import seaborn as sns\n",
    "import matplotlib.pyplot as plt\n",
    "import warnings\n",
    "import pickle\n",
    "from scipy import spatial\n",
    "from sklearn.decomposition import PCA\n",
    "import itertools\n",
    "import numpy as np\n",
    "from scipy import spatial\n",
    "from scipy.stats import norm\n",
    "import nltk.data\n",
    "from multiprocessing import Pool\n",
    "from keras.layers import Input, Dense, Lambda, Layer\n",
    "from keras.callbacks import ModelCheckpoint\n",
    "from keras.models import Model\n",
    "from keras import backend as K\n",
    "from gensim.models import Word2Vec\n",
    "from keras import metrics\n",
    "warnings.filterwarnings(\"ignore\")"
   ]
  },
  {
   "cell_type": "code",
   "execution_count": 2,
   "metadata": {
    "collapsed": true
   },
   "outputs": [],
   "source": [
    "def readtags(doc):\n",
    "    tree = ET.parse(doc)\n",
    "    root = tree.getroot()\n",
    "    name = doc.replace('.xml','')\n",
    "    name = []\n",
    "    for description in root.iter('seg'):\n",
    "        p = description.text\n",
    "        try:\n",
    "            p=p.replace('\\t','')\n",
    "            p=p.replace('\\n','')\n",
    "            p = p.replace('.','')\n",
    "            p = re.sub(\"\\s\\s+\" , \" \", p)\n",
    "        except:\n",
    "            pass\n",
    "        name.append(p)\n",
    "    return name"
   ]
  },
  {
   "cell_type": "code",
   "execution_count": 3,
   "metadata": {
    "collapsed": true
   },
   "outputs": [],
   "source": [
    "f = open('languages/Tamil.txt', 'r+', encoding=\"utf8\")\n",
    "tamil = f.readlines()\n",
    "tamil = tamil[:31102]\n",
    "tamil[0]= tamil[0].strip('\\ufeffMMA')\n",
    "import string\n",
    "etamilclude = set(string.punctuation)\n",
    "for i in range(0,len(tamil)):\n",
    "    tamil[i] = tamil[i].strip('\\n')\n",
    "    tamil[i] = ''.join(ch for ch in tamil[i] if ch not in etamilclude)"
   ]
  },
  {
   "cell_type": "code",
   "execution_count": 6,
   "metadata": {
    "collapsed": true
   },
   "outputs": [],
   "source": [
    "chinese = readtags('Languages/Chinese.xml')\n",
    "greek = readtags('Languages/Greek.xml')\n",
    "sanskrit  = readtags('Languages/Hindi.xml')\n",
    "latin = readtags('Languages/Latin.xml')\n",
    "hebrew = readtags('Languages/Hebrew.xml')\n",
    "arabic = readtags('Languages/Arabic.xml')"
   ]
  },
  {
   "cell_type": "code",
   "execution_count": 10,
   "metadata": {},
   "outputs": [
    {
     "name": "stdout",
     "output_type": "stream",
     "text": [
      " கட்சியின் துணைத்தலைவர் க்வாஸி ஹுசேன் அகமத் சென்ற மாதம் பின்வருமாறு அறிவித்தார் நாங்கள் தீவிரவாதிகள் அல்ல\n",
      "في البدء خلق الله السموات والارض\n",
      "in principio creavit Deus caelum et terram\n",
      "起初 神 創造 天地\n",
      "Εν αρχη εποιησεν ο Θεος τον ουρανον και την γην\n",
      "בראשית ברא אלהים את השמים ואת הארץ׃\n",
      "आदि में परमेश्वर ने आकाश और पृथ्वी की सृष्टि की।\n"
     ]
    }
   ],
   "source": [
    "print(tamil[0])\n",
    "print(arabic[0])\n",
    "print(latin[0])\n",
    "print(chinese[0])\n",
    "print(greek[0])\n",
    "print(hebrew[0])\n",
    "print(sanskrit[0])"
   ]
  },
  {
   "cell_type": "code",
   "execution_count": 38,
   "metadata": {},
   "outputs": [],
   "source": [
    "lan = [\"tamil\"] * len(tamil)\n",
    "data_1 = pd.DataFrame({\"Text\": tamil,\"Language\": lan})\n",
    "lan = [\"arabic\"] * len(arabic)\n",
    "data_2 = pd.DataFrame({\"Text\": arabic,\"Language\": lan})\n",
    "lan = [\"latin\"] * len(latin)\n",
    "data_3 = pd.DataFrame({\"Text\": latin,\"Language\": lan})\n",
    "lan = [\"chinese\"] * len(chinese)\n",
    "data_4 = pd.DataFrame({\"Text\": chinese,\"Language\": lan})\n",
    "lan = [\"greek\"] * len(greek)\n",
    "data_5 = pd.DataFrame({\"Text\": greek,\"Language\": lan})\n",
    "lan = [\"hebrew\"] * len(hebrew)\n",
    "data_6 = pd.DataFrame({\"Text\": hebrew,\"Language\": lan})\n",
    "lan = [\"sanskrit\"] * len(sanskrit)\n",
    "data_7 = pd.DataFrame({\"Text\": sanskrit,\"Language\": lan})\n",
    "\n",
    "data = pd.concat([data_1, data_2,data_3,data_4,data_5,data_6,data_7], ignore_index=True)"
   ]
  },
  {
   "cell_type": "code",
   "execution_count": 52,
   "metadata": {},
   "outputs": [
    {
     "data": {
      "text/plain": [
       "greek       1452\n",
       "sanskrit    1448\n",
       "arabic      1433\n",
       "latin       1429\n",
       "tamil       1428\n",
       "chinese     1424\n",
       "hebrew      1386\n",
       "Name: Language, dtype: int64"
      ]
     },
     "execution_count": 52,
     "metadata": {},
     "output_type": "execute_result"
    }
   ],
   "source": [
    "data['Language'][:10000].value_counts()"
   ]
  },
  {
   "cell_type": "code",
   "execution_count": 40,
   "metadata": {
    "collapsed": true
   },
   "outputs": [],
   "source": [
    "data = shuffle(data)"
   ]
  },
  {
   "cell_type": "code",
   "execution_count": 56,
   "metadata": {},
   "outputs": [],
   "source": [
    "l = data['Text']"
   ]
  },
  {
   "cell_type": "code",
   "execution_count": 41,
   "metadata": {
    "scrolled": true
   },
   "outputs": [
    {
     "data": {
      "text/html": [
       "<div>\n",
       "<style>\n",
       "    .dataframe thead tr:only-child th {\n",
       "        text-align: right;\n",
       "    }\n",
       "\n",
       "    .dataframe thead th {\n",
       "        text-align: left;\n",
       "    }\n",
       "\n",
       "    .dataframe tbody tr th {\n",
       "        vertical-align: top;\n",
       "    }\n",
       "</style>\n",
       "<table border=\"1\" class=\"dataframe\">\n",
       "  <thead>\n",
       "    <tr style=\"text-align: right;\">\n",
       "      <th></th>\n",
       "      <th>Language</th>\n",
       "      <th>Text</th>\n",
       "    </tr>\n",
       "  </thead>\n",
       "  <tbody>\n",
       "    <tr>\n",
       "      <th>194542</th>\n",
       "      <td>sanskrit</td>\n",
       "      <td>शाऊल ने कहा, यहोवा की आशीष तुम पर हो, क्योंकि ...</td>\n",
       "    </tr>\n",
       "    <tr>\n",
       "      <th>1066</th>\n",
       "      <td>tamil</td>\n",
       "      <td>ஜனாதிபதி ஆசிப் அலி ஜர்தாரியின் பாக்கிஸ்தானிய அ...</td>\n",
       "    </tr>\n",
       "    <tr>\n",
       "      <th>217190</th>\n",
       "      <td>sanskrit</td>\n",
       "      <td>जिन के द्वारा उस ने हमें बहुमूल्य और बहुत ही ब...</td>\n",
       "    </tr>\n",
       "    <tr>\n",
       "      <th>141383</th>\n",
       "      <td>greek</td>\n",
       "      <td>Ο αχρειος ανθρωπος σκαπτει κακον και εις τα χε...</td>\n",
       "    </tr>\n",
       "    <tr>\n",
       "      <th>17399</th>\n",
       "      <td>tamil</td>\n",
       "      <td>ஜனாதிபதியும் ஏனைய அரசியல்வாதிகளும் நாட்டை காப்...</td>\n",
       "    </tr>\n",
       "  </tbody>\n",
       "</table>\n",
       "</div>"
      ],
      "text/plain": [
       "        Language                                               Text\n",
       "194542  sanskrit  शाऊल ने कहा, यहोवा की आशीष तुम पर हो, क्योंकि ...\n",
       "1066       tamil  ஜனாதிபதி ஆசிப் அலி ஜர்தாரியின் பாக்கிஸ்தானிய அ...\n",
       "217190  sanskrit  जिन के द्वारा उस ने हमें बहुमूल्य और बहुत ही ब...\n",
       "141383     greek  Ο αχρειος ανθρωπος σκαπτει κακον και εις τα χε...\n",
       "17399      tamil  ஜனாதிபதியும் ஏனைய அரசியல்வாதிகளும் நாட்டை காப்..."
      ]
     },
     "execution_count": 41,
     "metadata": {},
     "output_type": "execute_result"
    }
   ],
   "source": [
    "data.head()"
   ]
  },
  {
   "cell_type": "code",
   "execution_count": 72,
   "metadata": {},
   "outputs": [
    {
     "data": {
      "text/plain": [
       "' கட்சியின் துணைத்தலைவர் க்வாஸி ஹுசேன் அகமத் சென்ற மாதம் பின்வருமாறு அறிவித்தார் நாங்கள் தீவிரவாதிகள் அல்ல'"
      ]
     },
     "execution_count": 72,
     "metadata": {},
     "output_type": "execute_result"
    }
   ],
   "source": [
    "tamil[0]"
   ]
  },
  {
   "cell_type": "code",
   "execution_count": null,
   "metadata": {},
   "outputs": [],
   "source": []
  },
  {
   "cell_type": "code",
   "execution_count": 105,
   "metadata": {},
   "outputs": [
    {
     "name": "stdout",
     "output_type": "stream",
     "text": [
      "words ['028', '1000', '1000ற', '110', '19', '1991', '1992ல', '2003', '2005', '2006ல']\n"
     ]
    }
   ],
   "source": [
    "##### TFIDF VECTORIZER\n",
    "vectorizer = CountVectorizer()\n",
    "X = vectorizer.fit_transform(data['Text'][:1000])\n",
    "words = vectorizer.get_feature_names()\n",
    "print(\"words\", words[:10])"
   ]
  },
  {
   "cell_type": "code",
   "execution_count": 142,
   "metadata": {},
   "outputs": [
    {
     "data": {
      "text/plain": [
       "(1000, 6831)"
      ]
     },
     "execution_count": 142,
     "metadata": {},
     "output_type": "execute_result"
    }
   ],
   "source": [
    "X.shape"
   ]
  },
  {
   "cell_type": "code",
   "execution_count": 135,
   "metadata": {},
   "outputs": [
    {
     "data": {
      "text/plain": [
       "(1000, 6831)"
      ]
     },
     "execution_count": 135,
     "metadata": {},
     "output_type": "execute_result"
    }
   ],
   "source": [
    "X.shape"
   ]
  },
  {
   "cell_type": "code",
   "execution_count": 106,
   "metadata": {},
   "outputs": [],
   "source": [
    "dense = X.toarray()"
   ]
  },
  {
   "cell_type": "code",
   "execution_count": 107,
   "metadata": {},
   "outputs": [
    {
     "data": {
      "text/plain": [
       "1000"
      ]
     },
     "execution_count": 107,
     "metadata": {},
     "output_type": "execute_result"
    }
   ],
   "source": [
    "len(dense)"
   ]
  },
  {
   "cell_type": "code",
   "execution_count": 108,
   "metadata": {
    "collapsed": true
   },
   "outputs": [],
   "source": [
    "import umap\n",
    "embedding = umap.UMAP(n_neighbors=5,\n",
    "                      min_dist=0.3,\n",
    "                      metric='correlation').fit_transform(dense)"
   ]
  },
  {
   "cell_type": "code",
   "execution_count": 109,
   "metadata": {
    "collapsed": true
   },
   "outputs": [],
   "source": [
    "df = pd.DataFrame(embedding, columns=('x', 'y'))"
   ]
  },
  {
   "cell_type": "code",
   "execution_count": 110,
   "metadata": {
    "collapsed": true
   },
   "outputs": [],
   "source": [
    "labels = list(data['Language'][:1000])"
   ]
  },
  {
   "cell_type": "code",
   "execution_count": 111,
   "metadata": {},
   "outputs": [],
   "source": [
    "df['class'] = labels"
   ]
  },
  {
   "cell_type": "code",
   "execution_count": 112,
   "metadata": {},
   "outputs": [
    {
     "data": {
      "text/html": [
       "<div>\n",
       "<style>\n",
       "    .dataframe thead tr:only-child th {\n",
       "        text-align: right;\n",
       "    }\n",
       "\n",
       "    .dataframe thead th {\n",
       "        text-align: left;\n",
       "    }\n",
       "\n",
       "    .dataframe tbody tr th {\n",
       "        vertical-align: top;\n",
       "    }\n",
       "</style>\n",
       "<table border=\"1\" class=\"dataframe\">\n",
       "  <thead>\n",
       "    <tr style=\"text-align: right;\">\n",
       "      <th></th>\n",
       "      <th>x</th>\n",
       "      <th>y</th>\n",
       "      <th>class</th>\n",
       "    </tr>\n",
       "  </thead>\n",
       "  <tbody>\n",
       "    <tr>\n",
       "      <th>0</th>\n",
       "      <td>7.677217</td>\n",
       "      <td>1.659613</td>\n",
       "      <td>sanskrit</td>\n",
       "    </tr>\n",
       "    <tr>\n",
       "      <th>1</th>\n",
       "      <td>11.874664</td>\n",
       "      <td>-4.122683</td>\n",
       "      <td>tamil</td>\n",
       "    </tr>\n",
       "    <tr>\n",
       "      <th>2</th>\n",
       "      <td>6.771089</td>\n",
       "      <td>3.917198</td>\n",
       "      <td>sanskrit</td>\n",
       "    </tr>\n",
       "    <tr>\n",
       "      <th>3</th>\n",
       "      <td>-12.090248</td>\n",
       "      <td>3.084249</td>\n",
       "      <td>greek</td>\n",
       "    </tr>\n",
       "    <tr>\n",
       "      <th>4</th>\n",
       "      <td>10.673591</td>\n",
       "      <td>-5.424447</td>\n",
       "      <td>tamil</td>\n",
       "    </tr>\n",
       "  </tbody>\n",
       "</table>\n",
       "</div>"
      ],
      "text/plain": [
       "           x         y     class\n",
       "0   7.677217  1.659613  sanskrit\n",
       "1  11.874664 -4.122683     tamil\n",
       "2   6.771089  3.917198  sanskrit\n",
       "3 -12.090248  3.084249     greek\n",
       "4  10.673591 -5.424447     tamil"
      ]
     },
     "execution_count": 112,
     "metadata": {},
     "output_type": "execute_result"
    }
   ],
   "source": [
    "df.head()"
   ]
  },
  {
   "cell_type": "markdown",
   "metadata": {},
   "source": [
    "## COUNT embedding"
   ]
  },
  {
   "cell_type": "code",
   "execution_count": 134,
   "metadata": {},
   "outputs": [
    {
     "data": {
      "text/plain": [
       "<Figure size 864x864 with 0 Axes>"
      ]
     },
     "metadata": {},
     "output_type": "display_data"
    },
    {
     "data": {
      "image/png": "[encoded data removed]",
      "text/plain": [
       "<Figure size 431x360 with 1 Axes>"
      ]
     },
     "metadata": {},
     "output_type": "display_data"
    }
   ],
   "source": [
    "with sns.color_palette(\"Blues_d\"):\n",
    "    plt.figure(figsize=(12,12))\n",
    "    sns.pairplot(x_vars = [\"x\"], y_vars = [\"y\"],data = df, \n",
    "             hue = \"class\",palette = 'Paired',size=5, plot_kws={\"s\": 100});\n",
    "    plt.show()"
   ]
  },
  {
   "cell_type": "markdown",
   "metadata": {},
   "source": [
    "## TFIDF Embedding"
   ]
  },
  {
   "cell_type": "code",
   "execution_count": 90,
   "metadata": {},
   "outputs": [
    {
     "data": {
      "text/plain": [
       "<Figure size 864x864 with 0 Axes>"
      ]
     },
     "metadata": {},
     "output_type": "display_data"
    },
    {
     "data": {
      "image/png": "[encoded data removed]",
      "text/plain": [
       "<Figure size 431x360 with 1 Axes>"
      ]
     },
     "metadata": {},
     "output_type": "display_data"
    }
   ],
   "source": [
    "plt.figure(figsize=(12,12))\n",
    "sns.pairplot(x_vars = [\"x\"], y_vars = [\"y\"],data = df, \n",
    "             hue = \"class\",size=5, plot_kws={\"s\": 100});\n",
    "plt.show()"
   ]
  }
 ],
 "metadata": {
  "kernelspec": {
   "display_name": "Python 3",
   "language": "python",
   "name": "python3"
  },
  "language_info": {
   "codemirror_mode": {
    "name": "ipython",
    "version": 3
   },
   "file_extension": ".py",
   "mimetype": "text/x-python",
   "name": "python",
   "nbconvert_exporter": "python",
   "pygments_lexer": "ipython3",
   "version": "3.6.3"
  }
 },
 "nbformat": 4,
 "nbformat_minor": 2
}
