{
 "cells": [
  {
   "cell_type": "code",
   "execution_count": 61,
   "metadata": {},
   "outputs": [],
   "source": [
    "import numpy as np\n",
    "import pandas as pd\n",
    "import re\n",
    "import xml.etree.ElementTree as ET\n",
    "from sklearn.utils import shuffle\n",
    "import gensim \n",
    "from sklearn.feature_extraction.text import TfidfVectorizer\n",
    "import seaborn as sns\n",
    "import matplotlib.pyplot as plt\n",
    "import warnings\n",
    "import pickle\n",
    "from scipy import spatial\n",
    "from sklearn.decomposition import PCA\n",
    "import itertools\n",
    "import numpy as np\n",
    "from scipy import spatial\n",
    "from scipy.stats import norm\n",
    "import nltk.data\n",
    "from multiprocessing import Pool\n",
    "from nltk import pos_tag\n",
    "from nltk.corpus import wordnet as wn\n",
    "from nltk.corpus import reuters\n",
    "from nltk. corpus import gutenberg\n",
    "from nltk.corpus import brown\n",
    "from nltk.tokenize import sent_tokenize\n",
    "from keras.layers import Input, Dense, Lambda, Layer\n",
    "from keras.callbacks import ModelCheckpoint\n",
    "from keras.models import Model\n",
    "from keras import backend as K\n",
    "from gensim.models import Word2Vec\n",
    "from keras import metrics\n",
    "warnings.filterwarnings(\"ignore\")"
   ]
  },
  {
   "cell_type": "code",
   "execution_count": 44,
   "metadata": {},
   "outputs": [],
   "source": []
  },
  {
   "cell_type": "code",
   "execution_count": null,
   "metadata": {},
   "outputs": [],
   "source": []
  },
  {
   "cell_type": "code",
   "execution_count": 9,
   "metadata": {
    "collapsed": true
   },
   "outputs": [],
   "source": [
    "def readtags(doc):\n",
    "    tree = ET.parse(doc)\n",
    "    root = tree.getroot()\n",
    "    name = doc.replace('.xml','')\n",
    "    name = []\n",
    "    for description in root.iter('seg'):\n",
    "        p = description.text\n",
    "        try:\n",
    "            p=p.replace('\\t','')\n",
    "            p=p.replace('\\n','')\n",
    "            p = p.replace('.','')\n",
    "            p = re.sub(\"\\s\\s+\" , \" \", p)\n",
    "        except:\n",
    "            pass\n",
    "        name.append(p)\n",
    "    return name"
   ]
  },
  {
   "cell_type": "code",
   "execution_count": 10,
   "metadata": {
    "collapsed": true
   },
   "outputs": [],
   "source": [
    "f = open('languages/Tamil.txt', 'r+', encoding=\"utf8\")\n",
    "tamil = f.readlines()\n",
    "tamil = tamil[:31102]\n",
    "tamil[0]= tamil[0].strip('\\ufeffMMA')\n",
    "import string\n",
    "etamilclude = set(string.punctuation)\n",
    "for i in range(0,len(tamil)):\n",
    "    tamil[i] = tamil[i].strip('\\n')\n",
    "    tamil[i] = ''.join(ch for ch in tamil[i] if ch not in etamilclude)"
   ]
  },
  {
   "cell_type": "code",
   "execution_count": 11,
   "metadata": {
    "collapsed": true
   },
   "outputs": [],
   "source": [
    "chinese = readtags('Languages/Chinese.xml')\n",
    "Japanese = readtags('Languages/Japanese.xml')\n",
    "english = readtags('Languages/English.xml')\n",
    "Latin = readtags('Languages/Latin.xml')"
   ]
  },
  {
   "cell_type": "markdown",
   "metadata": {
    "collapsed": true
   },
   "source": [
    "afrikaans = readtags('Languages/Afrikaans.xml')\n",
    "arabic = readtags('Languages/Arabic.xml')\n",
    "Bulgarian = readtags('Languages/Bulgarian.xml')\n",
    "chinese = readtags('Languages/Chinese.xml')\n",
    "croatian = readtags('Languages/Croatian.xml')\n",
    "danish = readtags('Languages/Danish.xml')\n",
    "dutch = readtags('Languages/Dutch.xml')\n",
    "english = readtags('Languages/English.xml')\n",
    "French = readtags('Languages/French.xml')\n",
    "farsi = readtags('Languages/Farsi.xml')\n",
    "Greek = readtags('Languages/Greek.xml')\n",
    "German = readtags('Languages/German.xml')\n",
    "Hindi = readtags('Languages/Hindi.xml')\n",
    "hebrew = readtags('Languages/Hebrew.xml')\n",
    "Italian = readtags('Languages/Italian.xml')\n",
    "Icelandic = readtags('Languages/Icelandic.xml')\n",
    "Indonesian = readtags('Languages/Indonesian.xml')\n",
    "Latin = readtags('Languages/Latin.xml')\n",
    "Japanese = readtags('Languages/Japanese.xml')\n",
    "Kannada = readtags('Languages/Kannada.xml')\n",
    "Korean = readtags('Languages/Korean.xml')\n",
    "Malayalam = readtags('Languages/Malayalam.xml')\n",
    "Marathi = readtags('Languages/Marathi.xml')\n",
    "Myanmar = readtags('Languages/Myanmar.xml')\n",
    "Nepali = readtags('Languages/Nepali.xml')\n",
    "Portuguese = readtags('Languages/Portuguese.xml')\n",
    "Romanian = readtags('Languages/Romanian.xml')\n",
    "Russian = readtags('Languages/Russian.xml')\n",
    "Shona = readtags('Languages/Shona.xml')\n",
    "Serbian = readtags('Languages/Serbian.xml')\n",
    "Spanish = readtags('Languages/Spanish.xml')\n",
    "Swedish = readtags('Languages/Swedish.xml')\n",
    "Telugu = readtags('Languages/Telugu.xml')\n",
    "Thai = readtags('Languages/Thai.xml')\n",
    "Turkish = readtags('Languages/Turkish.xml')\n",
    "Vietnamese = readtags('Languages/Vietnamese.xml')"
   ]
  },
  {
   "cell_type": "code",
   "execution_count": 55,
   "metadata": {},
   "outputs": [
    {
     "name": "stdout",
     "output_type": "stream",
     "text": [
      " In die begin het God die hemel en die aarde geskape\n",
      "في البدء خلق الله السموات والارض\n",
      "I Begyndelsen skabte Gud Himmelen og Jorden\n",
      "U početku stvori Bog nebo i zemlju\n",
      "I Begyndelsen skabte Gud Himmelen og Jorden\n",
      "In het begin heeft God de hemelen en de aarde gemaakt\n",
      "Au commencement, Dieu créa les cieux et la terre\n",
      "Εν αρχη εποιησεν ο Θεος τον ουρανον και την γην\n",
      "आदि में परमेश्वर ने आकाश और पृथ्वी की सृष्टि की।\n",
      "In principio Dio creò il cielo e la terra\n",
      "はじめに神は天と地とを創造された。\n",
      "ಆದಿಯಲ್ಲಿ ದೇವರು ಆಕಾಶವನ್ನೂ ಭೂಮಿಯನ್ನೂ ಸೃಷ್ಟಿಸಿದನು\n",
      "В началото Бог създаде небето и земята\n",
      "در ابتدا، خدا آسمانها و زمین را آفرید\n",
      "Ban đầu Ðức Chúa Trời dựng nên trời đất\n",
      "Başlangıçta Tanrı göğü ve yeri yarattı\n",
      "ఆదియందు దేవుడు భూమ్యాకాశములను సృజించెను\n",
      "ในเริ่มแรกนั้นพระเจ้าทรงเนรมิตสร้างฟ้าและแผ่นดินโลก\n",
      "I begynnelsen skapade Gud himmel och jord\n",
      "En el principio creó Dios los cielos y la tierra\n",
      " Pakutanga Mwari akasika denga nenyika \n",
      "U početku stvori Bog nebo i zemlju\n",
      "В начале сотворил Бог небо и землю\n",
      "La început, Dumnezeu a făcut cerurile şi pămîntul\n",
      "No princípio criou Deus os céus e a terra\n",
      "आरम्भमा परमेश्वरले आकाश र पृथ्वी सृष्टि गर्नु भयो।\n",
      "အစအဦး၌ ဘုရားသခင်သည် ကောင်းကင်နှင့် မြေကြီးကို ဖန်ဆင်းတော်မူ၏။\n",
      "ആദിയില്‍ ദൈവം ആകാശവും ഭൂമിയും സൃഷ്ടിച്ചു\n",
      "देवाने आकाश व पृथ्वी निर्माण केली\n",
      "태초에 하나님이 천지를 창조하시니라\n",
      "ಆದಿಯಲ್ಲಿ ದೇವರು ಆಕಾಶವನ್ನೂ ಭೂಮಿಯನ್ನೂ ಸೃಷ್ಟಿಸಿದನು\n",
      " கட்சியின் துணைத்தலைவர் க்வாஸி ஹுசேன் அகமத் சென்ற மாதம் பின்வருமாறு அறிவித்தார் நாங்கள் தீவிரவாதிகள் அல்ல\n",
      "in principio creavit Deus caelum et terram\n",
      "In principio Dio creò il cielo e la terra\n",
      "Am Anfang schuf Gott Himmel und Erde\n",
      " Í upphafi skapaði Guð himin og jörð \n",
      "Pada mulanya, waktu Allah mulai menciptakan alam semesta\n",
      "בראשית ברא אלהים את השמים ואת הארץ׃\n",
      "In the beginning God created the heaven and the earth\n"
     ]
    }
   ],
   "source": [
    "print(afrikaans[0])\n",
    "print(arabic[0])\n",
    "print(danish[0])\n",
    "print(croatian[0])\n",
    "print(danish[0])\n",
    "print(dutch[0])\n",
    "print(French[0])\n",
    "print(Greek[0])\n",
    "print(Hindi[0])\n",
    "print(Italian[0])\n",
    "print(Japanese[0])\n",
    "print(Kannada[0])\n",
    "print(Bulgarian[0])\n",
    "print(farsi[0])\n",
    "print(Vietnamese[0])\n",
    "print(Turkish[0])\n",
    "print(Telugu[0])\n",
    "print(Thai[0])\n",
    "print(Swedish[0])\n",
    "print(Spanish[0])\n",
    "print(Shona[0])\n",
    "print(Serbian[0])\n",
    "print(Russian[0])\n",
    "print(Romanian[0])\n",
    "print(Portuguese[0])\n",
    "print(Nepali[0])\n",
    "print(Myanmar[0])\n",
    "print(Malayalam[0])\n",
    "print(Marathi[0])\n",
    "print(Korean[0])\n",
    "print(Kannada[0])\n",
    "print(tamil[0])\n",
    "print(Latin[0])\n",
    "print(Italian[0])\n",
    "print(German[0])\n",
    "print(Icelandic[0])\n",
    "print(Indonesian[0])\n",
    "print(hebrew[0])\n",
    "print(english[0])"
   ]
  },
  {
   "cell_type": "code",
   "execution_count": 13,
   "metadata": {},
   "outputs": [],
   "source": [
    "lan = [\"chinese\"] * len(chinese)\n",
    "data_1 = pd.DataFrame({\"Text\": chinese,\"Language\": lan})\n",
    "lan = [\"English\"] * len(english)\n",
    "data_2 = pd.DataFrame({\"Text\": english,\"Language\": lan})\n",
    "lan = [\"Latin\"] * len(Latin)\n",
    "data_3 = pd.DataFrame({\"Text\": Latin,\"Language\": lan})\n",
    "lan = [\"Japanese\"] * len(Japanese)\n",
    "data_4 = pd.DataFrame({\"Text\": Japanese,\"Language\": lan})\n",
    "data = pd.concat([data_1, data_2,data_3,data_4], ignore_index=True)"
   ]
  },
  {
   "cell_type": "markdown",
   "metadata": {},
   "source": [
    "df = pd.DataFrame()\n",
    "lan = [\"Afrikaans\"] * len(afrikaans)\n",
    "data_1 = pd.DataFrame({\"Text\": afrikaans,\"Language\": lan})\n",
    "\n",
    "lan = [\"Arabic\"] * len(arabic)\n",
    "data_2 = pd.DataFrame({\"Text\": arabic,\"Language\": lan})\n",
    "\n",
    "lan = [\"Bulgarian\"] * len(Bulgarian)\n",
    "data_3 = pd.DataFrame({\"Text\": Bulgarian,\"Language\": lan})\n",
    "\n",
    "lan = [\"chinese\"] * len(chinese)\n",
    "data_4 = pd.DataFrame({\"Text\": chinese,\"Language\": lan})\n",
    "\n",
    "lan = [\"Crotian\"] * len(croatian)\n",
    "data_5 = pd.DataFrame({\"Text\": croatian,\"Language\": lan})\n",
    "\n",
    "lan = [\"Danish\"] * len(danish)\n",
    "data_6 = pd.DataFrame({\"Text\": danish,\"Language\": lan})\n",
    "\n",
    "lan = [\"Dutch\"] * len(dutch)\n",
    "data_7 = pd.DataFrame({\"Text\": dutch,\"Language\": lan})\n",
    "\n",
    "lan = [\"English\"] * len(english)\n",
    "data_8 = pd.DataFrame({\"Text\": english,\"Language\": lan})\n",
    "\n",
    "lan = [\"French\"] * len(French)\n",
    "data_9 = pd.DataFrame({\"Text\": French,\"Language\": lan})\n",
    "\n",
    "lan = [\"Farsi\"] * len(farsi)\n",
    "data_10 = pd.DataFrame({\"Text\": farsi,\"Language\": lan})\n",
    "\n",
    "lan = [\"Greek\"] * len(Greek)\n",
    "data_11 = pd.DataFrame({\"Text\": Greek,\"Language\": lan})\n",
    "\n",
    "lan = [\"Hindi\"] * len(Hindi)\n",
    "data_12 = pd.DataFrame({\"Text\": Hindi,\"Language\": lan})\n",
    "\n",
    "lan = [\"Hebrew\"] * len(hebrew)\n",
    "data_13 = pd.DataFrame({\"Text\": hebrew,\"Language\": lan})\n",
    "\n",
    "lan = [\"Italian\"] * len(Italian)\n",
    "data_14 = pd.DataFrame({\"Text\": Italian,\"Language\": lan})\n",
    "\n",
    "lan = [\"Icelandic\"] * len(Icelandic)\n",
    "data_15 = pd.DataFrame({\"Text\": Icelandic,\"Language\": lan})\n",
    "\n",
    "lan = [\"Indonesian\"] * len(Indonesian)\n",
    "data_16 = pd.DataFrame({\"Text\": Indonesian,\"Language\": lan})\n",
    "\n",
    "lan = [\"Latin\"] * len(Latin)\n",
    "data_18 = pd.DataFrame({\"Text\": Latin,\"Language\": lan})\n",
    "\n",
    "lan = [\"Japanese\"] * len(Japanese)\n",
    "data_19 = pd.DataFrame({\"Text\": Japanese,\"Language\": lan})\n",
    "\n",
    "lan = [\"Kannada\"] * len(Kannada)\n",
    "data_20 = pd.DataFrame({\"Text\": Kannada,\"Language\": lan})\n",
    "\n",
    "lan = [\"Korean\"] * len(Korean)\n",
    "data_21 = pd.DataFrame({\"Text\": Korean,\"Language\": lan})\n",
    "\n",
    "lan = [\"Malayalam\"] * len(Malayalam)\n",
    "data_22 = pd.DataFrame({\"Text\": Malayalam,\"Language\": lan})\n",
    "\n",
    "lan = [\"Marathi\"] * len(Marathi)\n",
    "data_23 = pd.DataFrame({\"Text\": Marathi,\"Language\": lan})\n",
    "\n",
    "lan = [\"Myanmar\"] * len(Myanmar)\n",
    "data_24 = pd.DataFrame({\"Text\": Myanmar,\"Language\": lan})\n",
    "\n",
    "lan = [\"Nepali\"] * len(Nepali)\n",
    "data_25 = pd.DataFrame({\"Text\": Nepali,\"Language\": lan})\n",
    "\n",
    "lan = [\"Portuguese\"] * len(Portuguese)\n",
    "data_26 = pd.DataFrame({\"Text\": Portuguese,\"Language\": lan})\n",
    "\n",
    "lan = [\"Romanian\"] * len(Romanian)\n",
    "data_27 = pd.DataFrame({\"Text\": Romanian,\"Language\": lan})\n",
    "\n",
    "lan = [\"Russian\"] * len(Russian)\n",
    "data_28 = pd.DataFrame({\"Text\": Russian,\"Language\": lan})\n",
    "\n",
    "lan = [\"Serbian\"] * len(Serbian)\n",
    "data_29 = pd.DataFrame({\"Text\": Serbian,\"Language\": lan})\n",
    "\n",
    "lan = [\"Shona\"] * len(Shona)\n",
    "data_30 = pd.DataFrame({\"Text\": Shona,\"Language\": lan})\n",
    "\n",
    "lan = [\"Spanish\"] * len(Spanish)\n",
    "data_31 = pd.DataFrame({\"Text\": Spanish,\"Language\": lan})\n",
    "\n",
    "lan = [\"Telugu\"] * len(Telugu)\n",
    "data_32 = pd.DataFrame({\"Text\": Telugu,\"Language\": lan})\n",
    "\n",
    "lan = [\"Thai\"] * len(Thai)\n",
    "data_33 = pd.DataFrame({\"Text\": Thai,\"Language\": lan})\n",
    "\n",
    "lan = [\"Turkish\"] * len(Turkish)\n",
    "data_34 = pd.DataFrame({\"Text\": Turkish,\"Language\": lan})\n",
    "\n",
    "lan = [\"Vietnamese\"] * len(Vietnamese)\n",
    "data_35 = pd.DataFrame({\"Text\": Vietnamese,\"Language\": lan})\n",
    "\n",
    "lan = [\"Tamil\"] * len(tamil)\n",
    "data_36 = pd.DataFrame({\"Text\": tamil,\"Language\": lan})\n",
    "\n",
    "lan = [\"Swedish\"] * len(Swedish)\n",
    "data_37 = pd.DataFrame({\"Text\": Swedish,\"Language\": lan})\n",
    "\n",
    "lan = [\"German\"] * len(German)\n",
    "data_38 = pd.DataFrame({\"Text\": German,\"Language\": lan})"
   ]
  },
  {
   "cell_type": "code",
   "execution_count": 81,
   "metadata": {
    "collapsed": true
   },
   "outputs": [],
   "source": [
    "data = pd.concat([data_1, data_2,data_3,data_4,data_5,\n",
    "                 data_6,data_7,data_8,data_9,data_10,\n",
    "                 data_11,data_12,data_13,data_14,data_15,data_16,data_18,data_19,data_20,\n",
    "                 data_21,data_22,data_23,data_24,data_25,data_26,data_27,data_28,data_29,data_30,\n",
    "                 data_31,data_32,data_33,data_34,data_35,data_36,data_37,data_38], ignore_index=True)"
   ]
  },
  {
   "cell_type": "code",
   "execution_count": 14,
   "metadata": {},
   "outputs": [
    {
     "data": {
      "text/plain": [
       "Latin       31211\n",
       "English     31102\n",
       "chinese     31101\n",
       "Japanese    31087\n",
       "Name: Language, dtype: int64"
      ]
     },
     "execution_count": 14,
     "metadata": {},
     "output_type": "execute_result"
    }
   ],
   "source": [
    "data['Language'].value_counts()"
   ]
  },
  {
   "cell_type": "code",
   "execution_count": 15,
   "metadata": {
    "collapsed": true
   },
   "outputs": [],
   "source": [
    "data = shuffle(data)"
   ]
  },
  {
   "cell_type": "code",
   "execution_count": 16,
   "metadata": {
    "scrolled": true
   },
   "outputs": [
    {
     "data": {
      "text/html": [
       "<div>\n",
       "<style>\n",
       "    .dataframe thead tr:only-child th {\n",
       "        text-align: right;\n",
       "    }\n",
       "\n",
       "    .dataframe thead th {\n",
       "        text-align: left;\n",
       "    }\n",
       "\n",
       "    .dataframe tbody tr th {\n",
       "        vertical-align: top;\n",
       "    }\n",
       "</style>\n",
       "<table border=\"1\" class=\"dataframe\">\n",
       "  <thead>\n",
       "    <tr style=\"text-align: right;\">\n",
       "      <th></th>\n",
       "      <th>Language</th>\n",
       "      <th>Text</th>\n",
       "    </tr>\n",
       "  </thead>\n",
       "  <tbody>\n",
       "    <tr>\n",
       "      <th>76957</th>\n",
       "      <td>Latin</td>\n",
       "      <td>Deus in nomine tuo salvum me fac et in virtute...</td>\n",
       "    </tr>\n",
       "    <tr>\n",
       "      <th>69632</th>\n",
       "      <td>Latin</td>\n",
       "      <td>et ait Saul ad patruum suum indicavit nobis qu...</td>\n",
       "    </tr>\n",
       "    <tr>\n",
       "      <th>71265</th>\n",
       "      <td>Latin</td>\n",
       "      <td>haec est summa expensarum quam obtulit rex Sal...</td>\n",
       "    </tr>\n",
       "    <tr>\n",
       "      <th>55778</th>\n",
       "      <td>English</td>\n",
       "      <td>And again he sent unto them another servant; a...</td>\n",
       "    </tr>\n",
       "    <tr>\n",
       "      <th>61803</th>\n",
       "      <td>English</td>\n",
       "      <td>And from Jesus Christ, who is the faithful wit...</td>\n",
       "    </tr>\n",
       "  </tbody>\n",
       "</table>\n",
       "</div>"
      ],
      "text/plain": [
       "      Language                                               Text\n",
       "76957    Latin  Deus in nomine tuo salvum me fac et in virtute...\n",
       "69632    Latin  et ait Saul ad patruum suum indicavit nobis qu...\n",
       "71265    Latin  haec est summa expensarum quam obtulit rex Sal...\n",
       "55778  English  And again he sent unto them another servant; a...\n",
       "61803  English  And from Jesus Christ, who is the faithful wit..."
      ]
     },
     "execution_count": 16,
     "metadata": {},
     "output_type": "execute_result"
    }
   ],
   "source": [
    "data.head()"
   ]
  },
  {
   "cell_type": "code",
   "execution_count": 32,
   "metadata": {},
   "outputs": [],
   "source": [
    "l = text['Text']"
   ]
  },
  {
   "cell_type": "code",
   "execution_count": 54,
   "metadata": {},
   "outputs": [],
   "source": [
    "k = []\n",
    "vocab = []\n",
    "for i in l:\n",
    "    k.append(i.split(' '))\n",
    "    vocab.extend(i.split(' '))\n",
    "vocab = list(set(vocab))"
   ]
  },
  {
   "cell_type": "code",
   "execution_count": 55,
   "metadata": {},
   "outputs": [
    {
     "data": {
      "text/plain": [
       "['Deus',\n",
       " 'in',\n",
       " 'nomine',\n",
       " 'tuo',\n",
       " 'salvum',\n",
       " 'me',\n",
       " 'fac',\n",
       " 'et',\n",
       " 'in',\n",
       " 'virtute',\n",
       " 'tua',\n",
       " 'iudica',\n",
       " 'me']"
      ]
     },
     "execution_count": 55,
     "metadata": {},
     "output_type": "execute_result"
    }
   ],
   "source": [
    "k[0]"
   ]
  },
  {
   "cell_type": "code",
   "execution_count": 43,
   "metadata": {},
   "outputs": [
    {
     "data": {
      "text/plain": [
       "150115"
      ]
     },
     "execution_count": 43,
     "metadata": {},
     "output_type": "execute_result"
    }
   ],
   "source": [
    "len(vocab)"
   ]
  },
  {
   "cell_type": "code",
   "execution_count": 47,
   "metadata": {},
   "outputs": [],
   "source": [
    "######WORD2VEC VECTORIZER\n",
    "model = Word2Vec(sentences = k, size = 100, sg = 1, window = 3, min_count = 1, iter = 10, workers = Pool()._processes)"
   ]
  },
  {
   "cell_type": "code",
   "execution_count": 50,
   "metadata": {},
   "outputs": [],
   "source": [
    "model.init_sims(replace = True)"
   ]
  },
  {
   "cell_type": "code",
   "execution_count": 57,
   "metadata": {},
   "outputs": [],
   "source": [
    "# converting each word into its vector representation\n",
    "sentences = []\n",
    "for i in range(len(k)):\n",
    "    sentences.append([model[word] for word in k[i]]"
   ]
  },
  {
   "cell_type": "code",
   "execution_count": 84,
   "metadata": {},
   "outputs": [],
   "source": [
    "def sent_PCA(sentence, n = 2):\n",
    "    pca = PCA(n_components = n)\n",
    "    pca.fit(np.array(sentence).transpose())\n",
    "    variance = np.array(pca.explained_variance_ratio_)\n",
    "    words = []\n",
    "    for _ in range(n):\n",
    "        idx = np.argmax(variance)\n",
    "        words.append(np.amax(variance) * sentence[idx])\n",
    "        variance[idx] = 0\n",
    "    return np.sum(words, axis = 0)"
   ]
  },
  {
   "cell_type": "code",
   "execution_count": 92,
   "metadata": {},
   "outputs": [],
   "source": [
    "sent_vectorized = []\n",
    "for sentence in sentences:\n",
    "    sent_vectorized.append(sent_PCA(sentence))"
   ]
  },
  {
   "cell_type": "code",
   "execution_count": null,
   "metadata": {},
   "outputs": [],
   "source": [
    "from sklearn.decomposition import PCA, TruncatedSVD\n",
    "from matplotlib import pyplot\n",
    "\n",
    "% matplotlib inline\n",
    "\n",
    "X = model[model.wv.vocab]\n",
    "pca = PCA(n_components=2)\n",
    "result = pca.fit_transform(X)\n",
    "# create a scatter plot of the projection\n",
    "pyplot.scatter(result[:, 0], result[:, 1])\n",
    "words = list(model.wv.vocab)\n",
    "for i, word in enumerate(words):\n",
    "    pyplot.annotate(word, xy=(result[i, 0], result[i, 1]))\n",
    "pyplot.show()"
   ]
  },
  {
   "cell_type": "code",
   "execution_count": null,
   "metadata": {},
   "outputs": [],
   "source": []
  },
  {
   "cell_type": "code",
   "execution_count": 17,
   "metadata": {},
   "outputs": [
    {
     "name": "stdout",
     "output_type": "stream",
     "text": [
      "words ['aaron', 'ab', 'abased', 'abdenago', 'abierunt', 'abisai', 'abluti', 'abraham', 'absalom', 'absconderat']\n"
     ]
    }
   ],
   "source": [
    "##### TFIDF VECTORIZER\n",
    "vectorizer = TfidfVectorizer(stop_words=\"english\")\n",
    "X = vectorizer.fit_transform(data['Text'][:500])\n",
    "words = vectorizer.get_feature_names()\n",
    "print(\"words\", words[:10])"
   ]
  },
  {
   "cell_type": "code",
   "execution_count": 18,
   "metadata": {
    "collapsed": true
   },
   "outputs": [],
   "source": [
    "dense = X.toarray()"
   ]
  },
  {
   "cell_type": "code",
   "execution_count": 19,
   "metadata": {},
   "outputs": [
    {
     "data": {
      "text/plain": [
       "500"
      ]
     },
     "execution_count": 19,
     "metadata": {},
     "output_type": "execute_result"
    }
   ],
   "source": [
    "len(dense)"
   ]
  },
  {
   "cell_type": "code",
   "execution_count": 20,
   "metadata": {
    "collapsed": true
   },
   "outputs": [],
   "source": [
    "import umap\n",
    "embedding = umap.UMAP(n_neighbors=5,\n",
    "                      min_dist=0.3,\n",
    "                      metric='correlation').fit_transform(dense)"
   ]
  },
  {
   "cell_type": "code",
   "execution_count": 21,
   "metadata": {
    "collapsed": true
   },
   "outputs": [],
   "source": [
    "df = pd.DataFrame(embedding, columns=('x', 'y'))"
   ]
  },
  {
   "cell_type": "code",
   "execution_count": 22,
   "metadata": {
    "collapsed": true
   },
   "outputs": [],
   "source": [
    "labels = list(data['Language'][:500])"
   ]
  },
  {
   "cell_type": "code",
   "execution_count": 23,
   "metadata": {
    "collapsed": true
   },
   "outputs": [],
   "source": [
    "df['class'] = labels"
   ]
  },
  {
   "cell_type": "code",
   "execution_count": 24,
   "metadata": {},
   "outputs": [
    {
     "data": {
      "text/html": [
       "<div>\n",
       "<style>\n",
       "    .dataframe thead tr:only-child th {\n",
       "        text-align: right;\n",
       "    }\n",
       "\n",
       "    .dataframe thead th {\n",
       "        text-align: left;\n",
       "    }\n",
       "\n",
       "    .dataframe tbody tr th {\n",
       "        vertical-align: top;\n",
       "    }\n",
       "</style>\n",
       "<table border=\"1\" class=\"dataframe\">\n",
       "  <thead>\n",
       "    <tr style=\"text-align: right;\">\n",
       "      <th></th>\n",
       "      <th>x</th>\n",
       "      <th>y</th>\n",
       "      <th>class</th>\n",
       "    </tr>\n",
       "  </thead>\n",
       "  <tbody>\n",
       "    <tr>\n",
       "      <th>0</th>\n",
       "      <td>12.295767</td>\n",
       "      <td>2.194627</td>\n",
       "      <td>Latin</td>\n",
       "    </tr>\n",
       "    <tr>\n",
       "      <th>1</th>\n",
       "      <td>12.426768</td>\n",
       "      <td>0.974050</td>\n",
       "      <td>Latin</td>\n",
       "    </tr>\n",
       "    <tr>\n",
       "      <th>2</th>\n",
       "      <td>11.048976</td>\n",
       "      <td>1.603320</td>\n",
       "      <td>Latin</td>\n",
       "    </tr>\n",
       "    <tr>\n",
       "      <th>3</th>\n",
       "      <td>6.266802</td>\n",
       "      <td>2.997897</td>\n",
       "      <td>English</td>\n",
       "    </tr>\n",
       "    <tr>\n",
       "      <th>4</th>\n",
       "      <td>4.818891</td>\n",
       "      <td>3.936972</td>\n",
       "      <td>English</td>\n",
       "    </tr>\n",
       "  </tbody>\n",
       "</table>\n",
       "</div>"
      ],
      "text/plain": [
       "           x         y    class\n",
       "0  12.295767  2.194627    Latin\n",
       "1  12.426768  0.974050    Latin\n",
       "2  11.048976  1.603320    Latin\n",
       "3   6.266802  2.997897  English\n",
       "4   4.818891  3.936972  English"
      ]
     },
     "execution_count": 24,
     "metadata": {},
     "output_type": "execute_result"
    }
   ],
   "source": [
    "df.head()"
   ]
  },
  {
   "cell_type": "markdown",
   "metadata": {},
   "source": [
    "## TFIDF Embedding"
   ]
  },
  {
   "cell_type": "code",
   "execution_count": 25,
   "metadata": {},
   "outputs": [
    {
     "data": {
      "text/plain": [
       "<Figure size 864x864 with 0 Axes>"
      ]
     },
     "metadata": {},
     "output_type": "display_data"
    },
    {
     "data": {
      "image/png": "[encoded data removed]",
      "text/plain": [
       "<Figure size 439.375x360 with 1 Axes>"
      ]
     },
     "metadata": {},
     "output_type": "display_data"
    }
   ],
   "source": [
    "plt.figure(figsize=(12,12))\n",
    "sns.pairplot(x_vars = [\"x\"], y_vars = [\"y\"],data = df, \n",
    "             hue = \"class\",size=5, plot_kws={\"s\": 100});\n",
    "plt.show()"
   ]
  },
  {
   "cell_type": "code",
   "execution_count": 82,
   "metadata": {},
   "outputs": [
    {
     "data": {
      "text/plain": [
       "list"
      ]
     },
     "execution_count": 82,
     "metadata": {},
     "output_type": "execute_result"
    }
   ],
   "source": [
    "type(sentences)"
   ]
  },
  {
   "cell_type": "code",
   "execution_count": null,
   "metadata": {},
   "outputs": [],
   "source": []
  },
  {
   "cell_type": "code",
   "execution_count": 89,
   "metadata": {},
   "outputs": [
    {
     "ename": "ValueError",
     "evalue": "setting an array element with a sequence.",
     "output_type": "error",
     "traceback": [
      "\u001b[1;31m---------------------------------------------------------------------------\u001b[0m",
      "\u001b[1;31mValueError\u001b[0m                                Traceback (most recent call last)",
      "\u001b[1;32m<ipython-input-89-a8230b1e5b53>\u001b[0m in \u001b[0;36m<module>\u001b[1;34m()\u001b[0m\n\u001b[0;32m      1\u001b[0m embedding = umap.UMAP(n_neighbors=5,\n\u001b[0;32m      2\u001b[0m                       \u001b[0mmin_dist\u001b[0m\u001b[1;33m=\u001b[0m\u001b[1;36m0.3\u001b[0m\u001b[1;33m,\u001b[0m\u001b[1;33m\u001b[0m\u001b[0m\n\u001b[1;32m----> 3\u001b[1;33m                       metric='correlation').fit_transform(s)\n\u001b[0m",
      "\u001b[1;32mC:\\Users\\Sangarshanan Veera\\Anaconda3\\lib\\site-packages\\umap\\umap_.py\u001b[0m in \u001b[0;36mfit_transform\u001b[1;34m(self, X, y)\u001b[0m\n\u001b[0;32m   1521\u001b[0m             \u001b[0mEmbedding\u001b[0m \u001b[0mof\u001b[0m \u001b[0mthe\u001b[0m \u001b[0mtraining\u001b[0m \u001b[0mdata\u001b[0m \u001b[1;32min\u001b[0m \u001b[0mlow\u001b[0m\u001b[1;33m-\u001b[0m\u001b[0mdimensional\u001b[0m \u001b[0mspace\u001b[0m\u001b[1;33m.\u001b[0m\u001b[1;33m\u001b[0m\u001b[0m\n\u001b[0;32m   1522\u001b[0m         \"\"\"\n\u001b[1;32m-> 1523\u001b[1;33m         \u001b[0mself\u001b[0m\u001b[1;33m.\u001b[0m\u001b[0mfit\u001b[0m\u001b[1;33m(\u001b[0m\u001b[0mX\u001b[0m\u001b[1;33m,\u001b[0m \u001b[0my\u001b[0m\u001b[1;33m)\u001b[0m\u001b[1;33m\u001b[0m\u001b[0m\n\u001b[0m\u001b[0;32m   1524\u001b[0m         \u001b[1;32mreturn\u001b[0m \u001b[0mself\u001b[0m\u001b[1;33m.\u001b[0m\u001b[0membedding_\u001b[0m\u001b[1;33m\u001b[0m\u001b[0m\n\u001b[0;32m   1525\u001b[0m \u001b[1;33m\u001b[0m\u001b[0m\n",
      "\u001b[1;32mC:\\Users\\Sangarshanan Veera\\Anaconda3\\lib\\site-packages\\umap\\umap_.py\u001b[0m in \u001b[0;36mfit\u001b[1;34m(self, X, y)\u001b[0m\n\u001b[0;32m   1331\u001b[0m         \"\"\"\n\u001b[0;32m   1332\u001b[0m \u001b[1;33m\u001b[0m\u001b[0m\n\u001b[1;32m-> 1333\u001b[1;33m         \u001b[0mX\u001b[0m \u001b[1;33m=\u001b[0m \u001b[0mcheck_array\u001b[0m\u001b[1;33m(\u001b[0m\u001b[0mX\u001b[0m\u001b[1;33m,\u001b[0m \u001b[0mdtype\u001b[0m\u001b[1;33m=\u001b[0m\u001b[0mnp\u001b[0m\u001b[1;33m.\u001b[0m\u001b[0mfloat32\u001b[0m\u001b[1;33m,\u001b[0m \u001b[0maccept_sparse\u001b[0m\u001b[1;33m=\u001b[0m\u001b[1;34m\"csr\"\u001b[0m\u001b[1;33m)\u001b[0m\u001b[1;33m\u001b[0m\u001b[0m\n\u001b[0m\u001b[0;32m   1334\u001b[0m         \u001b[0mself\u001b[0m\u001b[1;33m.\u001b[0m\u001b[0m_raw_data\u001b[0m \u001b[1;33m=\u001b[0m \u001b[0mX\u001b[0m\u001b[1;33m\u001b[0m\u001b[0m\n\u001b[0;32m   1335\u001b[0m \u001b[1;33m\u001b[0m\u001b[0m\n",
      "\u001b[1;32mC:\\Users\\Sangarshanan Veera\\Anaconda3\\lib\\site-packages\\sklearn\\utils\\validation.py\u001b[0m in \u001b[0;36mcheck_array\u001b[1;34m(array, accept_sparse, dtype, order, copy, force_all_finite, ensure_2d, allow_nd, ensure_min_samples, ensure_min_features, warn_on_dtype, estimator)\u001b[0m\n\u001b[0;32m    380\u001b[0m                                       force_all_finite)\n\u001b[0;32m    381\u001b[0m     \u001b[1;32melse\u001b[0m\u001b[1;33m:\u001b[0m\u001b[1;33m\u001b[0m\u001b[0m\n\u001b[1;32m--> 382\u001b[1;33m         \u001b[0marray\u001b[0m \u001b[1;33m=\u001b[0m \u001b[0mnp\u001b[0m\u001b[1;33m.\u001b[0m\u001b[0marray\u001b[0m\u001b[1;33m(\u001b[0m\u001b[0marray\u001b[0m\u001b[1;33m,\u001b[0m \u001b[0mdtype\u001b[0m\u001b[1;33m=\u001b[0m\u001b[0mdtype\u001b[0m\u001b[1;33m,\u001b[0m \u001b[0morder\u001b[0m\u001b[1;33m=\u001b[0m\u001b[0morder\u001b[0m\u001b[1;33m,\u001b[0m \u001b[0mcopy\u001b[0m\u001b[1;33m=\u001b[0m\u001b[0mcopy\u001b[0m\u001b[1;33m)\u001b[0m\u001b[1;33m\u001b[0m\u001b[0m\n\u001b[0m\u001b[0;32m    383\u001b[0m \u001b[1;33m\u001b[0m\u001b[0m\n\u001b[0;32m    384\u001b[0m         \u001b[1;32mif\u001b[0m \u001b[0mensure_2d\u001b[0m\u001b[1;33m:\u001b[0m\u001b[1;33m\u001b[0m\u001b[0m\n",
      "\u001b[1;31mValueError\u001b[0m: setting an array element with a sequence."
     ]
    }
   ],
   "source": [
    "embedding = umap.UMAP(n_neighbors=5,\n",
    "                      min_dist=0.3,\n",
    "                      metric='correlation').fit_transform(s)"
   ]
  },
  {
   "cell_type": "code",
   "execution_count": null,
   "metadata": {
    "collapsed": true
   },
   "outputs": [],
   "source": []
  },
  {
   "cell_type": "code",
   "execution_count": null,
   "metadata": {
    "collapsed": true
   },
   "outputs": [],
   "source": []
  },
  {
   "cell_type": "code",
   "execution_count": null,
   "metadata": {
    "collapsed": true
   },
   "outputs": [],
   "source": []
  },
  {
   "cell_type": "code",
   "execution_count": null,
   "metadata": {
    "collapsed": true
   },
   "outputs": [],
   "source": []
  },
  {
   "cell_type": "code",
   "execution_count": null,
   "metadata": {
    "collapsed": true
   },
   "outputs": [],
   "source": []
  },
  {
   "cell_type": "code",
   "execution_count": null,
   "metadata": {
    "collapsed": true
   },
   "outputs": [],
   "source": []
  }
 ],
 "metadata": {
  "kernelspec": {
   "display_name": "Python 3",
   "language": "python",
   "name": "python3"
  },
  "language_info": {
   "codemirror_mode": {
    "name": "ipython",
    "version": 3
   },
   "file_extension": ".py",
   "mimetype": "text/x-python",
   "name": "python",
   "nbconvert_exporter": "python",
   "pygments_lexer": "ipython3",
   "version": "3.6.3"
  }
 },
 "nbformat": 4,
 "nbformat_minor": 2
}
