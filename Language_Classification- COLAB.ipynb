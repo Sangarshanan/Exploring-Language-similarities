{
  "nbformat": 4,
  "nbformat_minor": 0,
  "metadata": {
    "colab": {
      "name": "Language Classification.ipynb",
      "version": "0.3.2",
      "provenance": [],
      "collapsed_sections": []
    },
    "kernelspec": {
      "display_name": "Python 3",
      "language": "python",
      "name": "python3"
    }
  },
  "cells": [
    {
      "metadata": {
        "id": "p7Y4nqoF-ZMV",
        "colab_type": "code",
        "colab": {}
      },
      "cell_type": "code",
      "source": [
        "!pip install -U -q PyDrive"
      ],
      "execution_count": 0,
      "outputs": []
    },
    {
      "metadata": {
        "id": "MDcc-iw5-g_G",
        "colab_type": "code",
        "colab": {}
      },
      "cell_type": "code",
      "source": [
        "from gensim.models import Word2Vec\n",
        "from nltk.tokenize import word_tokenize\n",
        "import numpy as np\n",
        "import pandas as pd\n",
        "import re\n",
        "from multiprocessing import Pool\n",
        "from scipy import spatial\n",
        "from sklearn.decomposition import PCA\n",
        "import xml.etree.ElementTree as ET"
      ],
      "execution_count": 0,
      "outputs": []
    },
    {
      "metadata": {
        "id": "AlIk1WJQfunm",
        "colab_type": "code",
        "colab": {
          "base_uri": "https://localhost:8080/",
          "height": 34
        },
        "outputId": "a9f95043-858b-4c22-f20f-a79ab08c9142"
      },
      "cell_type": "code",
      "source": [
        "import matplotlib.pyplot as plt\n",
        "import tensorflow as tf\n",
        "from sklearn.preprocessing import LabelBinarizer, LabelEncoder\n",
        "from sklearn.metrics import confusion_matrix\n",
        "from tensorflow import keras\n",
        "from keras.models import Sequential\n",
        "from keras.layers import Dense, Activation, Dropout\n",
        "from keras.preprocessing import text, sequence\n",
        "from keras import utils"
      ],
      "execution_count": 4,
      "outputs": [
        {
          "output_type": "stream",
          "text": [
            "Using TensorFlow backend.\n"
          ],
          "name": "stderr"
        }
      ]
    },
    {
      "metadata": {
        "id": "6ZNgAjfCfunt",
        "colab_type": "code",
        "colab": {}
      },
      "cell_type": "code",
      "source": [
        "def readtags(doc):\n",
        "    tree = ET.parse(doc)\n",
        "    root = tree.getroot()\n",
        "    name = doc.replace('.xml','')\n",
        "    name = []\n",
        "    for description in root.iter('seg'):\n",
        "        p = description.text\n",
        "        p=p.replace('\\t','')\n",
        "        p=p.replace('\\n','')\n",
        "        p = [p]\n",
        "        name.append(p)\n",
        "    return name\n",
        "\n",
        "def readother(doc):\n",
        "    tree = ET.parse(doc)\n",
        "    root = tree.getroot()\n",
        "    name = doc.replace('.xml','')\n",
        "    name = []\n",
        "    for description in root.iter('seg'):\n",
        "        p = [description.text]\n",
        "        name.append(p)\n",
        "    return name"
      ],
      "execution_count": 0,
      "outputs": []
    },
    {
      "metadata": {
        "id": "33Vyw1jD_Qs_",
        "colab_type": "code",
        "colab": {
          "base_uri": "https://localhost:8080/",
          "height": 105
        },
        "outputId": "daa8b98f-3d3a-48aa-a60d-59868a32857f"
      },
      "cell_type": "code",
      "source": [
        "from google.colab import drive\n",
        "drive.mount('/content/gdrive')"
      ],
      "execution_count": 8,
      "outputs": [
        {
          "output_type": "stream",
          "text": [
            "Go to this URL in a browser: https://accounts.google.com/o/oauth2/auth?client_id=947318989803-6bn6qk8qdgf4n4g3pfee6491hc0brc4i.apps.googleusercontent.com&redirect_uri=urn%3Aietf%3Awg%3Aoauth%3A2.0%3Aoob&scope=email%20https%3A%2F%2Fwww.googleapis.com%2Fauth%2Fdocs.test%20https%3A%2F%2Fwww.googleapis.com%2Fauth%2Fdrive%20https%3A%2F%2Fwww.googleapis.com%2Fauth%2Fdrive.photos.readonly%20https%3A%2F%2Fwww.googleapis.com%2Fauth%2Fpeopleapi.readonly&response_type=code\n",
            "Enter your authorization code:\n",
            "··········\n",
            "Mounted at /content/gdrive\n"
          ],
          "name": "stdout"
        }
      ]
    },
    {
      "metadata": {
        "id": "0DBEz17Tfun1",
        "colab_type": "code",
        "colab": {}
      },
      "cell_type": "code",
      "source": [
        "chinese = readtags('/content/gdrive/My Drive/Chinese.xml')\n",
        "arabic = readtags('/content/gdrive/My Drive/Arabic.xml')\n",
        "danish = readtags('/content/gdrive/My Drive/Danish.xml')\n",
        "dutch = readother('/content/gdrive/My Drive/Dutch.xml')\n",
        "english = readtags('/content/gdrive/My Drive/English.xml')"
      ],
      "execution_count": 0,
      "outputs": []
    },
    {
      "metadata": {
        "id": "BbLwccVJfun8",
        "colab_type": "code",
        "colab": {
          "base_uri": "https://localhost:8080/",
          "height": 34
        },
        "outputId": "6da8444f-299f-4e50-aad4-90ff1ff3b850"
      },
      "cell_type": "code",
      "source": [
        "english[0]"
      ],
      "execution_count": 15,
      "outputs": [
        {
          "output_type": "execute_result",
          "data": {
            "text/plain": [
              "['In the beginning God created the heaven and the earth.']"
            ]
          },
          "metadata": {
            "tags": []
          },
          "execution_count": 15
        }
      ]
    },
    {
      "metadata": {
        "id": "pqwUpXySfuoF",
        "colab_type": "code",
        "colab": {}
      },
      "cell_type": "code",
      "source": [
        "for i in range(len(english)):\n",
        "    english[i] = [word.lower() for word in english[i] if re.match('^[a-zA-Z]+', word)]\n",
        "    english[i] = (' ').join(english[i])\n",
        "    english[i] = [(re.sub(r'[^\\w\\s]','',english[i]))]\n",
        "    english[i] = (' ').join(english[i])"
      ],
      "execution_count": 0,
      "outputs": []
    },
    {
      "metadata": {
        "id": "kUOj82t4fuoL",
        "colab_type": "code",
        "colab": {
          "base_uri": "https://localhost:8080/",
          "height": 34
        },
        "outputId": "a49312b9-d1ff-401d-ddf5-f6cbe3ba90b7"
      },
      "cell_type": "code",
      "source": [
        "english[0]"
      ],
      "execution_count": 17,
      "outputs": [
        {
          "output_type": "execute_result",
          "data": {
            "text/plain": [
              "'in the beginning god created the heaven and the earth'"
            ]
          },
          "metadata": {
            "tags": []
          },
          "execution_count": 17
        }
      ]
    },
    {
      "metadata": {
        "id": "MBiDb7SNfuoX",
        "colab_type": "code",
        "colab": {
          "base_uri": "https://localhost:8080/",
          "height": 80
        },
        "outputId": "1c43b486-c90f-4e9c-b860-025b4fb2adaa"
      },
      "cell_type": "code",
      "source": [
        "df = pd.DataFrame()\n",
        "lan = [\"English\"] * len(english)\n",
        "data_1 = pd.DataFrame({\"Text\": english,\"Language\": lan})\n",
        "df.append(data_1)\n",
        "data_1.head(1)"
      ],
      "execution_count": 18,
      "outputs": [
        {
          "output_type": "execute_result",
          "data": {
            "text/html": [
              "<div>\n",
              "<style scoped>\n",
              "    .dataframe tbody tr th:only-of-type {\n",
              "        vertical-align: middle;\n",
              "    }\n",
              "\n",
              "    .dataframe tbody tr th {\n",
              "        vertical-align: top;\n",
              "    }\n",
              "\n",
              "    .dataframe thead th {\n",
              "        text-align: right;\n",
              "    }\n",
              "</style>\n",
              "<table border=\"1\" class=\"dataframe\">\n",
              "  <thead>\n",
              "    <tr style=\"text-align: right;\">\n",
              "      <th></th>\n",
              "      <th>Language</th>\n",
              "      <th>Text</th>\n",
              "    </tr>\n",
              "  </thead>\n",
              "  <tbody>\n",
              "    <tr>\n",
              "      <th>0</th>\n",
              "      <td>English</td>\n",
              "      <td>in the beginning god created the heaven and th...</td>\n",
              "    </tr>\n",
              "  </tbody>\n",
              "</table>\n",
              "</div>"
            ],
            "text/plain": [
              "  Language                                               Text\n",
              "0  English  in the beginning god created the heaven and th..."
            ]
          },
          "metadata": {
            "tags": []
          },
          "execution_count": 18
        }
      ]
    },
    {
      "metadata": {
        "id": "hSrIWtYffuof",
        "colab_type": "code",
        "colab": {}
      },
      "cell_type": "code",
      "source": [
        "for i in range(len(arabic)):\n",
        "    arabic[i] = (' ').join(arabic[i]).replace('.','')"
      ],
      "execution_count": 0,
      "outputs": []
    },
    {
      "metadata": {
        "id": "R2DKfw9Ofuou",
        "colab_type": "code",
        "colab": {
          "base_uri": "https://localhost:8080/",
          "height": 80
        },
        "outputId": "7b7b1620-bcd7-4360-af7f-b753a3c6d234"
      },
      "cell_type": "code",
      "source": [
        "df = pd.DataFrame()\n",
        "lan = [\"Arabic\"] * len(arabic)\n",
        "data_2 = pd.DataFrame({\"Text\": arabic,\"Language\": lan})\n",
        "df.append(data_2)\n",
        "data_2.head(1)"
      ],
      "execution_count": 20,
      "outputs": [
        {
          "output_type": "execute_result",
          "data": {
            "text/html": [
              "<div>\n",
              "<style scoped>\n",
              "    .dataframe tbody tr th:only-of-type {\n",
              "        vertical-align: middle;\n",
              "    }\n",
              "\n",
              "    .dataframe tbody tr th {\n",
              "        vertical-align: top;\n",
              "    }\n",
              "\n",
              "    .dataframe thead th {\n",
              "        text-align: right;\n",
              "    }\n",
              "</style>\n",
              "<table border=\"1\" class=\"dataframe\">\n",
              "  <thead>\n",
              "    <tr style=\"text-align: right;\">\n",
              "      <th></th>\n",
              "      <th>Language</th>\n",
              "      <th>Text</th>\n",
              "    </tr>\n",
              "  </thead>\n",
              "  <tbody>\n",
              "    <tr>\n",
              "      <th>0</th>\n",
              "      <td>Arabic</td>\n",
              "      <td>في البدء خلق الله السموات والارض</td>\n",
              "    </tr>\n",
              "  </tbody>\n",
              "</table>\n",
              "</div>"
            ],
            "text/plain": [
              "  Language                              Text\n",
              "0   Arabic  في البدء خلق الله السموات والارض"
            ]
          },
          "metadata": {
            "tags": []
          },
          "execution_count": 20
        }
      ]
    },
    {
      "metadata": {
        "id": "Einm5tJ4fuok",
        "colab_type": "code",
        "colab": {
          "base_uri": "https://localhost:8080/",
          "height": 51
        },
        "outputId": "64589978-be98-49bd-f046-42820fbcda7b"
      },
      "cell_type": "code",
      "source": [
        "arabic[:2]"
      ],
      "execution_count": 21,
      "outputs": [
        {
          "output_type": "execute_result",
          "data": {
            "text/plain": [
              "['في البدء خلق الله السموات والارض',\n",
              " 'وكانت الارض خربة وخالية وعلى وجه الغمر ظلمة وروح الله يرف على وجه المياه']"
            ]
          },
          "metadata": {
            "tags": []
          },
          "execution_count": 21
        }
      ]
    },
    {
      "metadata": {
        "id": "2eWlQ8e7fuo0",
        "colab_type": "code",
        "colab": {}
      },
      "cell_type": "code",
      "source": [
        "for i in range(len(dutch)):\n",
        "    dutch[i] = [x for x in dutch[i] if x is not None]\n",
        "    dutch[i] = [word.lower() for word in dutch[i]]\n",
        "    dutch[i] = ('').join(dutch[i]).replace('.','')\n",
        "    dutch[i] = (re.sub(r'[^\\w\\s]','',dutch[i]))"
      ],
      "execution_count": 0,
      "outputs": []
    },
    {
      "metadata": {
        "id": "AnjgGRLCfuo5",
        "colab_type": "code",
        "colab": {
          "base_uri": "https://localhost:8080/",
          "height": 80
        },
        "outputId": "2d13e3cb-4246-4d91-886d-b8b2d359a61f"
      },
      "cell_type": "code",
      "source": [
        "df = pd.DataFrame()\n",
        "lan = [\"Dutch\"] * len(dutch)\n",
        "data_3 = pd.DataFrame({\"Text\": dutch,\"Language\": lan})\n",
        "df.append(data_3)\n",
        "data_3.head(1)"
      ],
      "execution_count": 23,
      "outputs": [
        {
          "output_type": "execute_result",
          "data": {
            "text/html": [
              "<div>\n",
              "<style scoped>\n",
              "    .dataframe tbody tr th:only-of-type {\n",
              "        vertical-align: middle;\n",
              "    }\n",
              "\n",
              "    .dataframe tbody tr th {\n",
              "        vertical-align: top;\n",
              "    }\n",
              "\n",
              "    .dataframe thead th {\n",
              "        text-align: right;\n",
              "    }\n",
              "</style>\n",
              "<table border=\"1\" class=\"dataframe\">\n",
              "  <thead>\n",
              "    <tr style=\"text-align: right;\">\n",
              "      <th></th>\n",
              "      <th>Language</th>\n",
              "      <th>Text</th>\n",
              "    </tr>\n",
              "  </thead>\n",
              "  <tbody>\n",
              "    <tr>\n",
              "      <th>0</th>\n",
              "      <td>Dutch</td>\n",
              "      <td>in het begin heeft god de hemelen en de aarde ...</td>\n",
              "    </tr>\n",
              "  </tbody>\n",
              "</table>\n",
              "</div>"
            ],
            "text/plain": [
              "  Language                                               Text\n",
              "0    Dutch  in het begin heeft god de hemelen en de aarde ..."
            ]
          },
          "metadata": {
            "tags": []
          },
          "execution_count": 23
        }
      ]
    },
    {
      "metadata": {
        "id": "JrmX5WZZfupa",
        "colab_type": "code",
        "colab": {}
      },
      "cell_type": "code",
      "source": [
        "for i in range(len(danish)):\n",
        "    danish[i] = [word.lower() for word in danish[i]]\n",
        "    danish[i] = [x for x in danish[i] if x is not None]\n",
        "    danish[i] = ('').join(danish[i]).replace('.','')\n",
        "    danish[i] = (re.sub(r'[^\\w\\s]','',danish[i]))"
      ],
      "execution_count": 0,
      "outputs": []
    },
    {
      "metadata": {
        "id": "n97gDAOyfupe",
        "colab_type": "code",
        "colab": {
          "base_uri": "https://localhost:8080/",
          "height": 80
        },
        "outputId": "74ed86f4-a2d4-4a06-9864-16edbae91a69"
      },
      "cell_type": "code",
      "source": [
        "df = pd.DataFrame()\n",
        "lan = [\"Danish\"] * len(danish)\n",
        "data_4 = pd.DataFrame({\"Text\": danish,\"Language\": lan})\n",
        "df.append(data_4)\n",
        "data_4.head(1)"
      ],
      "execution_count": 25,
      "outputs": [
        {
          "output_type": "execute_result",
          "data": {
            "text/html": [
              "<div>\n",
              "<style scoped>\n",
              "    .dataframe tbody tr th:only-of-type {\n",
              "        vertical-align: middle;\n",
              "    }\n",
              "\n",
              "    .dataframe tbody tr th {\n",
              "        vertical-align: top;\n",
              "    }\n",
              "\n",
              "    .dataframe thead th {\n",
              "        text-align: right;\n",
              "    }\n",
              "</style>\n",
              "<table border=\"1\" class=\"dataframe\">\n",
              "  <thead>\n",
              "    <tr style=\"text-align: right;\">\n",
              "      <th></th>\n",
              "      <th>Language</th>\n",
              "      <th>Text</th>\n",
              "    </tr>\n",
              "  </thead>\n",
              "  <tbody>\n",
              "    <tr>\n",
              "      <th>0</th>\n",
              "      <td>Danish</td>\n",
              "      <td>i begyndelsen skabte gud himmelen og jorden</td>\n",
              "    </tr>\n",
              "  </tbody>\n",
              "</table>\n",
              "</div>"
            ],
            "text/plain": [
              "  Language                                         Text\n",
              "0   Danish  i begyndelsen skabte gud himmelen og jorden"
            ]
          },
          "metadata": {
            "tags": []
          },
          "execution_count": 25
        }
      ]
    },
    {
      "metadata": {
        "id": "99XCnjFdfupo",
        "colab_type": "code",
        "colab": {}
      },
      "cell_type": "code",
      "source": [
        "for i in range(len(chinese)):\n",
        "    chinese[i] = ('').join(chinese[i])\n",
        "    chinese[i] = (re.sub(r'[^\\w\\s]','',chinese[i]))"
      ],
      "execution_count": 0,
      "outputs": []
    },
    {
      "metadata": {
        "id": "6FhoasJmfupt",
        "colab_type": "code",
        "colab": {
          "base_uri": "https://localhost:8080/",
          "height": 80
        },
        "outputId": "269238b5-bba3-4a8b-f783-1e394b5f1411"
      },
      "cell_type": "code",
      "source": [
        "df = pd.DataFrame()\n",
        "lan = [\"Chinese\"] * len(chinese)\n",
        "data_5 = pd.DataFrame({\"Text\": chinese,\"Language\": lan})\n",
        "df.append(data_5)\n",
        "data_5.head(1)"
      ],
      "execution_count": 27,
      "outputs": [
        {
          "output_type": "execute_result",
          "data": {
            "text/html": [
              "<div>\n",
              "<style scoped>\n",
              "    .dataframe tbody tr th:only-of-type {\n",
              "        vertical-align: middle;\n",
              "    }\n",
              "\n",
              "    .dataframe tbody tr th {\n",
              "        vertical-align: top;\n",
              "    }\n",
              "\n",
              "    .dataframe thead th {\n",
              "        text-align: right;\n",
              "    }\n",
              "</style>\n",
              "<table border=\"1\" class=\"dataframe\">\n",
              "  <thead>\n",
              "    <tr style=\"text-align: right;\">\n",
              "      <th></th>\n",
              "      <th>Language</th>\n",
              "      <th>Text</th>\n",
              "    </tr>\n",
              "  </thead>\n",
              "  <tbody>\n",
              "    <tr>\n",
              "      <th>0</th>\n",
              "      <td>Chinese</td>\n",
              "      <td>起初 神 創造 天地</td>\n",
              "    </tr>\n",
              "  </tbody>\n",
              "</table>\n",
              "</div>"
            ],
            "text/plain": [
              "  Language        Text\n",
              "0  Chinese  起初 神 創造 天地"
            ]
          },
          "metadata": {
            "tags": []
          },
          "execution_count": 27
        }
      ]
    },
    {
      "metadata": {
        "id": "Q7TNuwxFfupy",
        "colab_type": "code",
        "colab": {}
      },
      "cell_type": "code",
      "source": [
        "data = pd.concat([data_1, data_2,data_3,data_4,data_5], ignore_index=True)"
      ],
      "execution_count": 0,
      "outputs": []
    },
    {
      "metadata": {
        "id": "LfWG8tvZfup2",
        "colab_type": "code",
        "colab": {
          "base_uri": "https://localhost:8080/",
          "height": 119
        },
        "outputId": "2f9578e0-01df-4464-dde8-75091191e135"
      },
      "cell_type": "code",
      "source": [
        "data['Language'].value_counts()"
      ],
      "execution_count": 30,
      "outputs": [
        {
          "output_type": "execute_result",
          "data": {
            "text/plain": [
              "Danish     31103\n",
              "Arabic     31102\n",
              "English    31102\n",
              "Chinese    31101\n",
              "Dutch      29098\n",
              "Name: Language, dtype: int64"
            ]
          },
          "metadata": {
            "tags": []
          },
          "execution_count": 30
        }
      ]
    },
    {
      "metadata": {
        "id": "ir0Giw56fup7",
        "colab_type": "code",
        "colab": {}
      },
      "cell_type": "code",
      "source": [
        "from sklearn.utils import shuffle\n",
        "data = shuffle(data)"
      ],
      "execution_count": 0,
      "outputs": []
    },
    {
      "metadata": {
        "id": "ccGkP7bRfup9",
        "colab_type": "code",
        "colab": {
          "base_uri": "https://localhost:8080/",
          "height": 51
        },
        "outputId": "c7d5844e-0a24-4ce7-ced1-e6bc17e682a6"
      },
      "cell_type": "code",
      "source": [
        "train_size = int(len(data) * .8)\n",
        "print (\"Train size: %d\" % train_size)\n",
        "print (\"Test size: %d\" % (len(data) - train_size))"
      ],
      "execution_count": 32,
      "outputs": [
        {
          "output_type": "stream",
          "text": [
            "Train size: 122804\n",
            "Test size: 30702\n"
          ],
          "name": "stdout"
        }
      ]
    },
    {
      "metadata": {
        "id": "arowmE5CfuqB",
        "colab_type": "code",
        "colab": {}
      },
      "cell_type": "code",
      "source": [
        "train = data['Text'][:train_size]\n",
        "train_p = data['Language'][:train_size]\n",
        "\n",
        "test = data['Text'][train_size:]\n",
        "test_p = data['Language'][train_size:]"
      ],
      "execution_count": 0,
      "outputs": []
    },
    {
      "metadata": {
        "id": "kXdSqapvfuqD",
        "colab_type": "code",
        "colab": {}
      },
      "cell_type": "code",
      "source": [
        "max_words = 1000\n",
        "tokenize = text.Tokenizer(num_words=max_words, char_level=False)"
      ],
      "execution_count": 0,
      "outputs": []
    },
    {
      "metadata": {
        "id": "ivziwuOWfuqH",
        "colab_type": "code",
        "colab": {}
      },
      "cell_type": "code",
      "source": [
        "tokenize.fit_on_texts(train) # only fit on train\n",
        "x_train = tokenize.texts_to_matrix(train)\n",
        "x_test = tokenize.texts_to_matrix(test)"
      ],
      "execution_count": 0,
      "outputs": []
    },
    {
      "metadata": {
        "id": "G_w6KvjvfuqJ",
        "colab_type": "code",
        "colab": {}
      },
      "cell_type": "code",
      "source": [
        "encoder = LabelEncoder()\n",
        "encoder.fit(train_p)\n",
        "y_train = encoder.transform(train_p)\n",
        "y_test = encoder.transform(test_p)"
      ],
      "execution_count": 0,
      "outputs": []
    },
    {
      "metadata": {
        "id": "H-JJOD4XfuqL",
        "colab_type": "code",
        "colab": {}
      },
      "cell_type": "code",
      "source": [
        "num_classes = np.max(y_train) + 1\n",
        "y_train = utils.to_categorical(y_train, num_classes)\n",
        "y_test = utils.to_categorical(y_test, num_classes)"
      ],
      "execution_count": 0,
      "outputs": []
    },
    {
      "metadata": {
        "id": "Buret_nWfuqN",
        "colab_type": "code",
        "colab": {
          "base_uri": "https://localhost:8080/",
          "height": 85
        },
        "outputId": "34bcc6f1-512b-4003-ade5-09ca128de0bb"
      },
      "cell_type": "code",
      "source": [
        "print('x_train shape:', x_train.shape)\n",
        "print('x_test shape:', x_test.shape)\n",
        "print('y_train shape:', y_train.shape)\n",
        "print('y_test shape:', y_test.shape)"
      ],
      "execution_count": 38,
      "outputs": [
        {
          "output_type": "stream",
          "text": [
            "x_train shape: (122804, 1000)\n",
            "x_test shape: (30702, 1000)\n",
            "y_train shape: (122804, 5)\n",
            "y_test shape: (30702, 5)\n"
          ],
          "name": "stdout"
        }
      ]
    },
    {
      "metadata": {
        "id": "7JFkcQDlfuqP",
        "colab_type": "code",
        "colab": {
          "base_uri": "https://localhost:8080/",
          "height": 68
        },
        "outputId": "eeb8d3de-830c-4a13-fd3d-3250ec099323"
      },
      "cell_type": "code",
      "source": [
        "batch_size = 32\n",
        "epochs = 1\n",
        "# Build the model\n",
        "model = Sequential()\n",
        "model.add(Dense(512, input_shape=(max_words,)))\n",
        "model.add(Activation('relu'))\n",
        "model.add(Dropout(0.5))\n",
        "model.add(Dense(num_classes))\n",
        "model.add(Activation('softmax'))\n",
        "\n",
        "model.compile(loss='categorical_crossentropy',\n",
        "              optimizer='adam',\n",
        "              metrics=['accuracy'])\n",
        "\n",
        "history = model.fit(x_train, y_train,\n",
        "                    batch_size=batch_size,\n",
        "                    epochs=epochs,\n",
        "                    verbose=1,\n",
        "                    validation_split=0.1)"
      ],
      "execution_count": 39,
      "outputs": [
        {
          "output_type": "stream",
          "text": [
            "Train on 110523 samples, validate on 12281 samples\n",
            "Epoch 1/1\n",
            "110523/110523 [==============================] - 42s 376us/step - loss: 0.0374 - acc: 0.9918 - val_loss: 0.0200 - val_acc: 0.9943\n"
          ],
          "name": "stdout"
        }
      ]
    },
    {
      "metadata": {
        "id": "K8xCcgIKfuqS",
        "colab_type": "code",
        "colab": {},
        "outputId": "3a26456b-56e6-4e2b-8b03-f62afb9ea81e"
      },
      "cell_type": "code",
      "source": [
        "history"
      ],
      "execution_count": 0,
      "outputs": [
        {
          "output_type": "stream",
          "text": [
            "history\n"
          ],
          "name": "stdout"
        }
      ]
    },
    {
      "metadata": {
        "id": "3yOyJTeFfuqW",
        "colab_type": "code",
        "colab": {
          "base_uri": "https://localhost:8080/",
          "height": 68
        },
        "outputId": "694fcf1d-0f03-48ab-b352-fc2881181602"
      },
      "cell_type": "code",
      "source": [
        "score = model.evaluate(x_test, y_test,\n",
        "                       batch_size=batch_size, verbose=1)\n",
        "print('Test score:', score[0])\n",
        "print('Test accuracy:', score[1])"
      ],
      "execution_count": 40,
      "outputs": [
        {
          "output_type": "stream",
          "text": [
            "30702/30702 [==============================] - 2s 81us/step\n",
            "Test score: 0.020060542720871922\n",
            "Test accuracy: 0.9941046185799743\n"
          ],
          "name": "stdout"
        }
      ]
    },
    {
      "metadata": {
        "id": "5A1ZoAfyfuqZ",
        "colab_type": "code",
        "colab": {
          "base_uri": "https://localhost:8080/",
          "height": 697
        },
        "outputId": "bd33102c-908a-48ff-ff66-e286bc53b88c"
      },
      "cell_type": "code",
      "source": [
        "text_labels = encoder.classes_ \n",
        "for i in range(10):\n",
        "    prediction = model.predict(np.array([x_test[i]]))\n",
        "    predicted_label = text_labels[np.argmax(prediction)]\n",
        "    print(test.iloc[i][:100])\n",
        "    print('Actual label:' + test_p.iloc[i])\n",
        "    print(\"Predicted label: \" + predicted_label + \"\\n\")"
      ],
      "execution_count": 45,
      "outputs": [
        {
          "output_type": "stream",
          "text": [
            "جعبتهم كقبر مفتوح كلهم جبابرة\n",
            "Actual label:Arabic\n",
            "Predicted label: Arabic\n",
            "\n",
            "and the lord said unto moses speak unto the priests the sons of aaron and say unto them there shall \n",
            "Actual label:English\n",
            "Predicted label: English\n",
            "\n",
            "then herod when he had privily called the wise men inquired of them diligently what time the star ap\n",
            "Actual label:English\n",
            "Predicted label: English\n",
            "\n",
            "d t is de reden u bent kinderen van de duivel en doet met plezier wat hij wil hij is al sinds het be\n",
            "Actual label:Dutch\n",
            "Predicted label: Dutch\n",
            "\n",
            "للعلوقة بنتان هات هات ثلاثة لا تشبع اربعة لا تقول كفا\n",
            "Actual label:Arabic\n",
            "Predicted label: Arabic\n",
            "\n",
            "耶和華 阿  求 你 記念 我 在 你 面前 怎 樣 存 完全 的 心  按 誠實 行事  又 作 你 眼中 所 看 為善 的  希西家 就 痛哭了\n",
            "Actual label:Chinese\n",
            "Predicted label: Chinese\n",
            "\n",
            "men lærer lignelsen af figentræet når dets gren allerede er bleven blødog bladene skyde frem da skøn\n",
            "Actual label:Danish\n",
            "Predicted label: Danish\n",
            "\n",
            "da lagde trællen sin hånd under sin herre abrahams lænd og svor ham eden\n",
            "Actual label:Danish\n",
            "Predicted label: Danish\n",
            "\n",
            "når en har brudt med mose lov dør han uden barmhjertighed på to eller tre vidners udsagn\n",
            "Actual label:Danish\n",
            "Predicted label: Danish\n",
            "\n",
            "فقالت لها الكرمة أاترك مسطاري الذي يفرح الله والناس واذهب لكي املك على الاشجار\n",
            "Actual label:Arabic\n",
            "Predicted label: Arabic\n",
            "\n"
          ],
          "name": "stdout"
        }
      ]
    },
    {
      "metadata": {
        "id": "mWSji2oDfuqb",
        "colab_type": "code",
        "colab": {}
      },
      "cell_type": "code",
      "source": [
        ""
      ],
      "execution_count": 0,
      "outputs": []
    },
    {
      "metadata": {
        "id": "vhSq-RC4CH7I",
        "colab_type": "text"
      },
      "cell_type": "markdown",
      "source": [
        "**Let's test the model for Multiple Languages data**"
      ]
    },
    {
      "metadata": {
        "id": "2UvYpYBWIcA_",
        "colab_type": "code",
        "colab": {}
      },
      "cell_type": "code",
      "source": [
        "data = np.array(['da lagde trællen sin hånd under sin herre abrahams lænd og svor ham eden 耶和華 阿  求 你 記念 我 在 你 面前'])\n",
        "s = pd.Series(data)\n",
        "val = tokenize.texts_to_matrix(s)\n",
        "prediction = model.predict(np.array(val))\n",
        "predicted_label = text_labels[np.argmax(prediction)]"
      ],
      "execution_count": 0,
      "outputs": []
    },
    {
      "metadata": {
        "id": "4YYAGYf6fuqh",
        "colab_type": "code",
        "colab": {
          "base_uri": "https://localhost:8080/",
          "height": 51
        },
        "outputId": "80cf0903-1f24-4b27-9322-003ffa0b639f"
      },
      "cell_type": "code",
      "source": [
        "prediction"
      ],
      "execution_count": 141,
      "outputs": [
        {
          "output_type": "execute_result",
          "data": {
            "text/plain": [
              "array([[9.4595826e-14, 9.9866128e-01, 1.3387678e-03, 1.0105591e-10,\n",
              "        6.0815852e-10]], dtype=float32)"
            ]
          },
          "metadata": {
            "tags": []
          },
          "execution_count": 141
        }
      ]
    },
    {
      "metadata": {
        "id": "bZPUdMtpINq2",
        "colab_type": "code",
        "colab": {
          "base_uri": "https://localhost:8080/",
          "height": 34
        },
        "outputId": "41a93a6e-3696-456d-e750-9f8d60e19070"
      },
      "cell_type": "code",
      "source": [
        "text_labels[0], text_labels[1], text_labels[2], text_labels[3], text_labels[4], "
      ],
      "execution_count": 139,
      "outputs": [
        {
          "output_type": "execute_result",
          "data": {
            "text/plain": [
              "('Arabic', 'Chinese', 'Danish', 'Dutch', 'English')"
            ]
          },
          "metadata": {
            "tags": []
          },
          "execution_count": 139
        }
      ]
    },
    {
      "metadata": {
        "id": "Wuke5UeqIl40",
        "colab_type": "text"
      },
      "cell_type": "markdown",
      "source": [
        "\n",
        "\n",
        "1.   CHINESE = 99.8 %\n",
        "2.   DANISH = 0.0013 %\n",
        "\n",
        "OTHER PROBABILITIES ARE NEGLIGIBLE\n",
        "\n"
      ]
    },
    {
      "metadata": {
        "id": "79k3aYB3fuqe",
        "colab_type": "code",
        "colab": {
          "base_uri": "https://localhost:8080/",
          "height": 51
        },
        "outputId": "d94604f2-7727-4c52-e23f-c5830f116f11"
      },
      "cell_type": "code",
      "source": [
        "data = np.array(['god is now here and he is good trællen'])\n",
        "s = pd.Series(data)\n",
        "val = tokenize.texts_to_matrix(s)\n",
        "prediction = model.predict(np.array(val))\n",
        "predicted_label = text_labels[np.argmax(prediction)]\n",
        "print(\"LABEL\",predicted_label)\n",
        "print(\"PROBABILITIES\",prediction)"
      ],
      "execution_count": 145,
      "outputs": [
        {
          "output_type": "stream",
          "text": [
            "LABEL English\n",
            "PROBABILITIES [[3.5602514e-07 6.8739092e-07 2.6488141e-07 3.4640183e-05 9.9996400e-01]]\n"
          ],
          "name": "stdout"
        }
      ]
    },
    {
      "metadata": {
        "id": "r-DdbkovJcGL",
        "colab_type": "text"
      },
      "cell_type": "markdown",
      "source": [
        "**I have just used one Dutch word and we can clearly see the probability of DUTCH is significant compared to other languages other than English**"
      ]
    },
    {
      "metadata": {
        "id": "3I1s9qS3J3_3",
        "colab_type": "text"
      },
      "cell_type": "markdown",
      "source": [
        "\n",
        "1.   ENGLISH = 99%\n",
        "2.   DUTCH =  0.000034 %\n",
        "\n",
        "\n",
        "\n"
      ]
    },
    {
      "metadata": {
        "id": "YeyzdoC6fuqj",
        "colab_type": "code",
        "colab": {
          "base_uri": "https://localhost:8080/",
          "height": 51
        },
        "outputId": "33b830bd-1f74-4f81-df65-31fd32849e0c"
      },
      "cell_type": "code",
      "source": [
        "data = np.array(['god is now here trællen sin hånd under sin herre 耶和華 阿  求 你 記念 فقالت لها الكرمة أاترك مسطاري الذي يفرح الله والناس'])\n",
        "s = pd.Series(data)\n",
        "val = tokenize.texts_to_matrix(s)\n",
        "prediction = model.predict(np.array(val))\n",
        "predicted_label = text_labels[np.argmax(prediction)]\n",
        "print(\"LABEL\",predicted_label)\n",
        "print(\"PROBABILITIES\",prediction)"
      ],
      "execution_count": 148,
      "outputs": [
        {
          "output_type": "stream",
          "text": [
            "LABEL Chinese\n",
            "PROBABILITIES [[1.4163397e-04 9.9834299e-01 4.1349628e-04 3.0543900e-04 7.9654140e-04]]\n"
          ],
          "name": "stdout"
        }
      ]
    },
    {
      "metadata": {
        "id": "8Weww9LzKcNx",
        "colab_type": "text"
      },
      "cell_type": "markdown",
      "source": [
        "**CHINESE TEXT IS GIVEN THE HIGHEST PRIORITY AS IT HAS MORE CHARACTERS AND ALL OTHER LANGUAGES HAVE ALMOST EQUAL PROBABILITIES**"
      ]
    },
    {
      "metadata": {
        "id": "Z_vlw11bFLYk",
        "colab_type": "code",
        "colab": {}
      },
      "cell_type": "code",
      "source": [
        ""
      ],
      "execution_count": 0,
      "outputs": []
    },
    {
      "metadata": {
        "id": "MysapUDxFQVX",
        "colab_type": "code",
        "colab": {}
      },
      "cell_type": "code",
      "source": [
        ""
      ],
      "execution_count": 0,
      "outputs": []
    }
  ]
}